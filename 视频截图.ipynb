{
 "cells": [
  {
   "cell_type": "code",
   "execution_count": 2,
   "metadata": {},
   "outputs": [
    {
     "name": "stdout",
     "output_type": "stream",
     "text": [
      "openerror!\n"
     ]
    }
   ],
   "source": [
    "import cv2\n",
    "videoFile = '/Users/kriny/Desktop/cutvideo/cylinder.mp4'\n",
    "outputFile = '/Users/kriny/Desktop/cutvideo/cylinder/'\n",
    "vc = cv2.VideoCapture(videoFile)\n",
    "c = 1\n",
    "if vc.isOpened():\n",
    "    rval, frame = vc.read()\n",
    "else:\n",
    "    print('openerror!')\n",
    "    rval = False\n",
    "\n",
    "timeF = 50  #视频帧计数间隔次数\n",
    "while rval:\n",
    "    print(1)\n",
    "    #print(c)\n",
    "    rval, frame = vc.read()\n",
    "    if c % timeF == 0:\n",
    "        print(2)\n",
    "        cv2.imwrite(outputFile + str(int(c / timeF)) + '.jpg', frame)\n",
    "    c += 1\n",
    "    cv2.waitKey(1)\n",
    "vc.release()\n"
   ]
  },
  {
   "cell_type": "code",
   "execution_count": null,
   "metadata": {},
   "outputs": [],
   "source": []
  }
 ],
 "metadata": {
  "kernelspec": {
   "display_name": "Python 3",
   "language": "python",
   "name": "python3"
  },
  "language_info": {
   "codemirror_mode": {
    "name": "ipython",
    "version": 3
   },
   "file_extension": ".py",
   "mimetype": "text/x-python",
   "name": "python",
   "nbconvert_exporter": "python",
   "pygments_lexer": "ipython3",
   "version": "3.6.8"
  }
 },
 "nbformat": 4,
 "nbformat_minor": 2
}
